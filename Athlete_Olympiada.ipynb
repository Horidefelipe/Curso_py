{
  "cells": [
    {
      "cell_type": "markdown",
      "metadata": {
        "id": "view-in-github",
        "colab_type": "text"
      },
      "source": [
        "<a href=\"https://colab.research.google.com/github/Horidefelipe/Curso_py/blob/main/Athlete_Olympiada.ipynb\" target=\"_parent\"><img src=\"https://colab.research.google.com/assets/colab-badge.svg\" alt=\"Open In Colab\"/></a>"
      ]
    },
    {
      "cell_type": "code",
      "execution_count": 2,
      "metadata": {
        "id": "ZsuORRSaI12Q"
      },
      "outputs": [],
      "source": [
        "import pandas as pd\n",
        "import altair as alt"
      ]
    },
    {
      "cell_type": "code",
      "execution_count": 3,
      "metadata": {
        "id": "Q9hHal0AjhT6"
      },
      "outputs": [],
      "source": [
        "import matplotlib.pyplot as plt\n",
        " #Libreria para insertar graficos\n",
        "import numpy as np\n",
        "#Libreria para insertar vectores"
      ]
    },
    {
      "cell_type": "code",
      "execution_count": 4,
      "metadata": {
        "id": "oysCLFOkN_eN",
        "colab": {
          "base_uri": "https://localhost:8080/"
        },
        "outputId": "9be26135-bd1f-424d-dd13-e23da9b8e561"
      },
      "outputs": [
        {
          "output_type": "stream",
          "name": "stdout",
          "text": [
            "    ID               Name Sex   Age  Height Weight     Team  NOC    Year  \\\n",
            "0  1.0      Andreea Aanei   F  22.0   170.0  125.0  Romania  ROU  2016.0   \n",
            "1  2.0  Nstor Abad Sanjun   M  23.0   167.0   64.0    Spain  ESP  2016.0   \n",
            "2  3.0  Nstor Abad Sanjun   M  23.0   167.0   64.0    Spain  ESP  2016.0   \n",
            "3  4.0  Nstor Abad Sanjun   M  23.0   167.0   64.0    Spain  ESP  2016.0   \n",
            "4  5.0  Nstor Abad Sanjun   M  23.0   167.0   64.0    Spain  ESP  2016.0   \n",
            "\n",
            "   Season            City          Sport  \\\n",
            "0  Summer  Rio de Janeiro  Weightlifting   \n",
            "1  Summer  Rio de Janeiro     Gymnastics   \n",
            "2  Summer  Rio de Janeiro     Gymnastics   \n",
            "3  Summer  Rio de Janeiro     Gymnastics   \n",
            "4  Summer  Rio de Janeiro     Gymnastics   \n",
            "\n",
            "                                     Event Medal  \n",
            "0  Weightlifting Women's Super-Heavyweight   NaN  \n",
            "1   Gymnastics Men's Individual All-Around   NaN  \n",
            "2          Gymnastics Men's Floor Exercise   NaN  \n",
            "3           Gymnastics Men's Parallel Bars   NaN  \n",
            "4          Gymnastics Men's Horizontal Bar   NaN  \n"
          ]
        },
        {
          "output_type": "stream",
          "name": "stderr",
          "text": [
            "/usr/local/lib/python3.7/dist-packages/IPython/core/interactiveshell.py:3326: DtypeWarning: Columns (1,2,5,6,7,9,10,11,12,13) have mixed types.Specify dtype option on import or set low_memory=False.\n",
            "  exec(code_obj, self.user_global_ns, self.user_ns)\n"
          ]
        }
      ],
      "source": [
        "url = 'https://raw.githubusercontent.com/FLucioni/olimpiadas/games/olimpicos.csv'\n",
        "df = pd.read_csv(url, sep = ';')\n",
        "print(df.head())"
      ]
    },
    {
      "cell_type": "code",
      "execution_count": 6,
      "metadata": {
        "id": "slt-CVvGZhGr"
      },
      "outputs": [],
      "source": [
        "surveys_df = pd.read_csv(url, sep = ';')"
      ]
    },
    {
      "cell_type": "code",
      "execution_count": 7,
      "metadata": {
        "id": "CIDIkqEQZv1h",
        "colab": {
          "base_uri": "https://localhost:8080/",
          "height": 424
        },
        "outputId": "3b60891b-0e7e-45db-8f73-7fe5048c603f"
      },
      "outputs": [
        {
          "output_type": "execute_result",
          "data": {
            "text/plain": [
              "         ID               Name  Sex   Age  Height Weight     Team  NOC  \\\n",
              "0       1.0      Andreea Aanei    F  22.0   170.0  125.0  Romania  ROU   \n",
              "1       2.0  Nstor Abad Sanjun    M  23.0   167.0   64.0    Spain  ESP   \n",
              "2       3.0  Nstor Abad Sanjun    M  23.0   167.0   64.0    Spain  ESP   \n",
              "3       4.0  Nstor Abad Sanjun    M  23.0   167.0   64.0    Spain  ESP   \n",
              "4       5.0  Nstor Abad Sanjun    M  23.0   167.0   64.0    Spain  ESP   \n",
              "...     ...                ...  ...   ...     ...    ...      ...  ...   \n",
              "167051  NaN                NaN  NaN   NaN     NaN    NaN      NaN  NaN   \n",
              "167052  NaN                NaN  NaN   NaN     NaN    NaN      NaN  NaN   \n",
              "167053  NaN                NaN  NaN   NaN     NaN    NaN      NaN  NaN   \n",
              "167054  NaN                NaN  NaN   NaN     NaN    NaN      NaN  NaN   \n",
              "167055  NaN                NaN  NaN   NaN     NaN    NaN      NaN  NaN   \n",
              "\n",
              "          Year  Season            City          Sport  \\\n",
              "0       2016.0  Summer  Rio de Janeiro  Weightlifting   \n",
              "1       2016.0  Summer  Rio de Janeiro     Gymnastics   \n",
              "2       2016.0  Summer  Rio de Janeiro     Gymnastics   \n",
              "3       2016.0  Summer  Rio de Janeiro     Gymnastics   \n",
              "4       2016.0  Summer  Rio de Janeiro     Gymnastics   \n",
              "...        ...     ...             ...            ...   \n",
              "167051     NaN     NaN             NaN            NaN   \n",
              "167052     NaN     NaN             NaN            NaN   \n",
              "167053     NaN     NaN             NaN            NaN   \n",
              "167054     NaN     NaN             NaN            NaN   \n",
              "167055     NaN     NaN             NaN            NaN   \n",
              "\n",
              "                                          Event Medal  \n",
              "0       Weightlifting Women's Super-Heavyweight   NaN  \n",
              "1        Gymnastics Men's Individual All-Around   NaN  \n",
              "2               Gymnastics Men's Floor Exercise   NaN  \n",
              "3                Gymnastics Men's Parallel Bars   NaN  \n",
              "4               Gymnastics Men's Horizontal Bar   NaN  \n",
              "...                                         ...   ...  \n",
              "167051                                      NaN   NaN  \n",
              "167052                                      NaN   NaN  \n",
              "167053                                      NaN   NaN  \n",
              "167054                                      NaN   NaN  \n",
              "167055                                      NaN   NaN  \n",
              "\n",
              "[167056 rows x 14 columns]"
            ],
            "text/html": [
              "\n",
              "  <div id=\"df-ff4231d1-ffa1-4c82-918c-90613f53f8f8\">\n",
              "    <div class=\"colab-df-container\">\n",
              "      <div>\n",
              "<style scoped>\n",
              "    .dataframe tbody tr th:only-of-type {\n",
              "        vertical-align: middle;\n",
              "    }\n",
              "\n",
              "    .dataframe tbody tr th {\n",
              "        vertical-align: top;\n",
              "    }\n",
              "\n",
              "    .dataframe thead th {\n",
              "        text-align: right;\n",
              "    }\n",
              "</style>\n",
              "<table border=\"1\" class=\"dataframe\">\n",
              "  <thead>\n",
              "    <tr style=\"text-align: right;\">\n",
              "      <th></th>\n",
              "      <th>ID</th>\n",
              "      <th>Name</th>\n",
              "      <th>Sex</th>\n",
              "      <th>Age</th>\n",
              "      <th>Height</th>\n",
              "      <th>Weight</th>\n",
              "      <th>Team</th>\n",
              "      <th>NOC</th>\n",
              "      <th>Year</th>\n",
              "      <th>Season</th>\n",
              "      <th>City</th>\n",
              "      <th>Sport</th>\n",
              "      <th>Event</th>\n",
              "      <th>Medal</th>\n",
              "    </tr>\n",
              "  </thead>\n",
              "  <tbody>\n",
              "    <tr>\n",
              "      <th>0</th>\n",
              "      <td>1.0</td>\n",
              "      <td>Andreea Aanei</td>\n",
              "      <td>F</td>\n",
              "      <td>22.0</td>\n",
              "      <td>170.0</td>\n",
              "      <td>125.0</td>\n",
              "      <td>Romania</td>\n",
              "      <td>ROU</td>\n",
              "      <td>2016.0</td>\n",
              "      <td>Summer</td>\n",
              "      <td>Rio de Janeiro</td>\n",
              "      <td>Weightlifting</td>\n",
              "      <td>Weightlifting Women's Super-Heavyweight</td>\n",
              "      <td>NaN</td>\n",
              "    </tr>\n",
              "    <tr>\n",
              "      <th>1</th>\n",
              "      <td>2.0</td>\n",
              "      <td>Nstor Abad Sanjun</td>\n",
              "      <td>M</td>\n",
              "      <td>23.0</td>\n",
              "      <td>167.0</td>\n",
              "      <td>64.0</td>\n",
              "      <td>Spain</td>\n",
              "      <td>ESP</td>\n",
              "      <td>2016.0</td>\n",
              "      <td>Summer</td>\n",
              "      <td>Rio de Janeiro</td>\n",
              "      <td>Gymnastics</td>\n",
              "      <td>Gymnastics Men's Individual All-Around</td>\n",
              "      <td>NaN</td>\n",
              "    </tr>\n",
              "    <tr>\n",
              "      <th>2</th>\n",
              "      <td>3.0</td>\n",
              "      <td>Nstor Abad Sanjun</td>\n",
              "      <td>M</td>\n",
              "      <td>23.0</td>\n",
              "      <td>167.0</td>\n",
              "      <td>64.0</td>\n",
              "      <td>Spain</td>\n",
              "      <td>ESP</td>\n",
              "      <td>2016.0</td>\n",
              "      <td>Summer</td>\n",
              "      <td>Rio de Janeiro</td>\n",
              "      <td>Gymnastics</td>\n",
              "      <td>Gymnastics Men's Floor Exercise</td>\n",
              "      <td>NaN</td>\n",
              "    </tr>\n",
              "    <tr>\n",
              "      <th>3</th>\n",
              "      <td>4.0</td>\n",
              "      <td>Nstor Abad Sanjun</td>\n",
              "      <td>M</td>\n",
              "      <td>23.0</td>\n",
              "      <td>167.0</td>\n",
              "      <td>64.0</td>\n",
              "      <td>Spain</td>\n",
              "      <td>ESP</td>\n",
              "      <td>2016.0</td>\n",
              "      <td>Summer</td>\n",
              "      <td>Rio de Janeiro</td>\n",
              "      <td>Gymnastics</td>\n",
              "      <td>Gymnastics Men's Parallel Bars</td>\n",
              "      <td>NaN</td>\n",
              "    </tr>\n",
              "    <tr>\n",
              "      <th>4</th>\n",
              "      <td>5.0</td>\n",
              "      <td>Nstor Abad Sanjun</td>\n",
              "      <td>M</td>\n",
              "      <td>23.0</td>\n",
              "      <td>167.0</td>\n",
              "      <td>64.0</td>\n",
              "      <td>Spain</td>\n",
              "      <td>ESP</td>\n",
              "      <td>2016.0</td>\n",
              "      <td>Summer</td>\n",
              "      <td>Rio de Janeiro</td>\n",
              "      <td>Gymnastics</td>\n",
              "      <td>Gymnastics Men's Horizontal Bar</td>\n",
              "      <td>NaN</td>\n",
              "    </tr>\n",
              "    <tr>\n",
              "      <th>...</th>\n",
              "      <td>...</td>\n",
              "      <td>...</td>\n",
              "      <td>...</td>\n",
              "      <td>...</td>\n",
              "      <td>...</td>\n",
              "      <td>...</td>\n",
              "      <td>...</td>\n",
              "      <td>...</td>\n",
              "      <td>...</td>\n",
              "      <td>...</td>\n",
              "      <td>...</td>\n",
              "      <td>...</td>\n",
              "      <td>...</td>\n",
              "      <td>...</td>\n",
              "    </tr>\n",
              "    <tr>\n",
              "      <th>167051</th>\n",
              "      <td>NaN</td>\n",
              "      <td>NaN</td>\n",
              "      <td>NaN</td>\n",
              "      <td>NaN</td>\n",
              "      <td>NaN</td>\n",
              "      <td>NaN</td>\n",
              "      <td>NaN</td>\n",
              "      <td>NaN</td>\n",
              "      <td>NaN</td>\n",
              "      <td>NaN</td>\n",
              "      <td>NaN</td>\n",
              "      <td>NaN</td>\n",
              "      <td>NaN</td>\n",
              "      <td>NaN</td>\n",
              "    </tr>\n",
              "    <tr>\n",
              "      <th>167052</th>\n",
              "      <td>NaN</td>\n",
              "      <td>NaN</td>\n",
              "      <td>NaN</td>\n",
              "      <td>NaN</td>\n",
              "      <td>NaN</td>\n",
              "      <td>NaN</td>\n",
              "      <td>NaN</td>\n",
              "      <td>NaN</td>\n",
              "      <td>NaN</td>\n",
              "      <td>NaN</td>\n",
              "      <td>NaN</td>\n",
              "      <td>NaN</td>\n",
              "      <td>NaN</td>\n",
              "      <td>NaN</td>\n",
              "    </tr>\n",
              "    <tr>\n",
              "      <th>167053</th>\n",
              "      <td>NaN</td>\n",
              "      <td>NaN</td>\n",
              "      <td>NaN</td>\n",
              "      <td>NaN</td>\n",
              "      <td>NaN</td>\n",
              "      <td>NaN</td>\n",
              "      <td>NaN</td>\n",
              "      <td>NaN</td>\n",
              "      <td>NaN</td>\n",
              "      <td>NaN</td>\n",
              "      <td>NaN</td>\n",
              "      <td>NaN</td>\n",
              "      <td>NaN</td>\n",
              "      <td>NaN</td>\n",
              "    </tr>\n",
              "    <tr>\n",
              "      <th>167054</th>\n",
              "      <td>NaN</td>\n",
              "      <td>NaN</td>\n",
              "      <td>NaN</td>\n",
              "      <td>NaN</td>\n",
              "      <td>NaN</td>\n",
              "      <td>NaN</td>\n",
              "      <td>NaN</td>\n",
              "      <td>NaN</td>\n",
              "      <td>NaN</td>\n",
              "      <td>NaN</td>\n",
              "      <td>NaN</td>\n",
              "      <td>NaN</td>\n",
              "      <td>NaN</td>\n",
              "      <td>NaN</td>\n",
              "    </tr>\n",
              "    <tr>\n",
              "      <th>167055</th>\n",
              "      <td>NaN</td>\n",
              "      <td>NaN</td>\n",
              "      <td>NaN</td>\n",
              "      <td>NaN</td>\n",
              "      <td>NaN</td>\n",
              "      <td>NaN</td>\n",
              "      <td>NaN</td>\n",
              "      <td>NaN</td>\n",
              "      <td>NaN</td>\n",
              "      <td>NaN</td>\n",
              "      <td>NaN</td>\n",
              "      <td>NaN</td>\n",
              "      <td>NaN</td>\n",
              "      <td>NaN</td>\n",
              "    </tr>\n",
              "  </tbody>\n",
              "</table>\n",
              "<p>167056 rows × 14 columns</p>\n",
              "</div>\n",
              "      <button class=\"colab-df-convert\" onclick=\"convertToInteractive('df-ff4231d1-ffa1-4c82-918c-90613f53f8f8')\"\n",
              "              title=\"Convert this dataframe to an interactive table.\"\n",
              "              style=\"display:none;\">\n",
              "        \n",
              "  <svg xmlns=\"http://www.w3.org/2000/svg\" height=\"24px\"viewBox=\"0 0 24 24\"\n",
              "       width=\"24px\">\n",
              "    <path d=\"M0 0h24v24H0V0z\" fill=\"none\"/>\n",
              "    <path d=\"M18.56 5.44l.94 2.06.94-2.06 2.06-.94-2.06-.94-.94-2.06-.94 2.06-2.06.94zm-11 1L8.5 8.5l.94-2.06 2.06-.94-2.06-.94L8.5 2.5l-.94 2.06-2.06.94zm10 10l.94 2.06.94-2.06 2.06-.94-2.06-.94-.94-2.06-.94 2.06-2.06.94z\"/><path d=\"M17.41 7.96l-1.37-1.37c-.4-.4-.92-.59-1.43-.59-.52 0-1.04.2-1.43.59L10.3 9.45l-7.72 7.72c-.78.78-.78 2.05 0 2.83L4 21.41c.39.39.9.59 1.41.59.51 0 1.02-.2 1.41-.59l7.78-7.78 2.81-2.81c.8-.78.8-2.07 0-2.86zM5.41 20L4 18.59l7.72-7.72 1.47 1.35L5.41 20z\"/>\n",
              "  </svg>\n",
              "      </button>\n",
              "      \n",
              "  <style>\n",
              "    .colab-df-container {\n",
              "      display:flex;\n",
              "      flex-wrap:wrap;\n",
              "      gap: 12px;\n",
              "    }\n",
              "\n",
              "    .colab-df-convert {\n",
              "      background-color: #E8F0FE;\n",
              "      border: none;\n",
              "      border-radius: 50%;\n",
              "      cursor: pointer;\n",
              "      display: none;\n",
              "      fill: #1967D2;\n",
              "      height: 32px;\n",
              "      padding: 0 0 0 0;\n",
              "      width: 32px;\n",
              "    }\n",
              "\n",
              "    .colab-df-convert:hover {\n",
              "      background-color: #E2EBFA;\n",
              "      box-shadow: 0px 1px 2px rgba(60, 64, 67, 0.3), 0px 1px 3px 1px rgba(60, 64, 67, 0.15);\n",
              "      fill: #174EA6;\n",
              "    }\n",
              "\n",
              "    [theme=dark] .colab-df-convert {\n",
              "      background-color: #3B4455;\n",
              "      fill: #D2E3FC;\n",
              "    }\n",
              "\n",
              "    [theme=dark] .colab-df-convert:hover {\n",
              "      background-color: #434B5C;\n",
              "      box-shadow: 0px 1px 3px 1px rgba(0, 0, 0, 0.15);\n",
              "      filter: drop-shadow(0px 1px 2px rgba(0, 0, 0, 0.3));\n",
              "      fill: #FFFFFF;\n",
              "    }\n",
              "  </style>\n",
              "\n",
              "      <script>\n",
              "        const buttonEl =\n",
              "          document.querySelector('#df-ff4231d1-ffa1-4c82-918c-90613f53f8f8 button.colab-df-convert');\n",
              "        buttonEl.style.display =\n",
              "          google.colab.kernel.accessAllowed ? 'block' : 'none';\n",
              "\n",
              "        async function convertToInteractive(key) {\n",
              "          const element = document.querySelector('#df-ff4231d1-ffa1-4c82-918c-90613f53f8f8');\n",
              "          const dataTable =\n",
              "            await google.colab.kernel.invokeFunction('convertToInteractive',\n",
              "                                                     [key], {});\n",
              "          if (!dataTable) return;\n",
              "\n",
              "          const docLinkHtml = 'Like what you see? Visit the ' +\n",
              "            '<a target=\"_blank\" href=https://colab.research.google.com/notebooks/data_table.ipynb>data table notebook</a>'\n",
              "            + ' to learn more about interactive tables.';\n",
              "          element.innerHTML = '';\n",
              "          dataTable['output_type'] = 'display_data';\n",
              "          await google.colab.output.renderOutput(dataTable, element);\n",
              "          const docLink = document.createElement('div');\n",
              "          docLink.innerHTML = docLinkHtml;\n",
              "          element.appendChild(docLink);\n",
              "        }\n",
              "      </script>\n",
              "    </div>\n",
              "  </div>\n",
              "  "
            ]
          },
          "metadata": {},
          "execution_count": 7
        }
      ],
      "source": [
        "surveys_df"
      ]
    },
    {
      "cell_type": "code",
      "execution_count": 8,
      "metadata": {
        "id": "oVbUUVlVaQ6C",
        "colab": {
          "base_uri": "https://localhost:8080/"
        },
        "outputId": "94017d93-a123-4895-d82a-47d241f6a42a"
      },
      "outputs": [
        {
          "output_type": "execute_result",
          "data": {
            "text/plain": [
              "ID        float64\n",
              "Name       object\n",
              "Sex        object\n",
              "Age       float64\n",
              "Height    float64\n",
              "Weight     object\n",
              "Team       object\n",
              "NOC        object\n",
              "Year      float64\n",
              "Season     object\n",
              "City       object\n",
              "Sport      object\n",
              "Event      object\n",
              "Medal      object\n",
              "dtype: object"
            ]
          },
          "metadata": {},
          "execution_count": 8
        }
      ],
      "source": [
        "surveys_df.dtypes\n"
      ]
    },
    {
      "cell_type": "code",
      "execution_count": 9,
      "metadata": {
        "id": "JJV32TGfajhD",
        "colab": {
          "base_uri": "https://localhost:8080/"
        },
        "outputId": "3389d8ec-8cac-478b-b8b0-0783273a2d62"
      },
      "outputs": [
        {
          "output_type": "execute_result",
          "data": {
            "text/plain": [
              "Index(['ID', 'Name', 'Sex', 'Age', 'Height', 'Weight', 'Team', 'NOC', 'Year',\n",
              "       'Season', 'City', 'Sport', 'Event', 'Medal'],\n",
              "      dtype='object')"
            ]
          },
          "metadata": {},
          "execution_count": 9
        }
      ],
      "source": [
        "#Ver nombre de las columnas\n",
        "surveys_df.columns"
      ]
    },
    {
      "cell_type": "code",
      "execution_count": 10,
      "metadata": {
        "id": "7B5I9-U8asda",
        "colab": {
          "base_uri": "https://localhost:8080/"
        },
        "outputId": "2c46eb6c-d355-460c-a438-8b918a819507"
      },
      "outputs": [
        {
          "output_type": "execute_result",
          "data": {
            "text/plain": [
              "(167056, 14)"
            ]
          },
          "metadata": {},
          "execution_count": 10
        }
      ],
      "source": [
        "surveys_df.shape\n",
        "#(Rows,Columns)"
      ]
    },
    {
      "cell_type": "code",
      "execution_count": 11,
      "metadata": {
        "id": "tWrt0KpA3BVv",
        "colab": {
          "base_uri": "https://localhost:8080/"
        },
        "outputId": "addc9537-16c8-43e8-e54c-697be887c6d4"
      },
      "outputs": [
        {
          "output_type": "execute_result",
          "data": {
            "text/plain": [
              "ID        85258\n",
              "Name      85258\n",
              "Sex       85258\n",
              "Age       85255\n",
              "Height    84547\n",
              "Weight    84048\n",
              "Team      85258\n",
              "NOC       85258\n",
              "Year      85258\n",
              "Season    85258\n",
              "City      85258\n",
              "Sport     85258\n",
              "Event     85258\n",
              "Medal     12138\n",
              "dtype: int64"
            ]
          },
          "metadata": {},
          "execution_count": 11
        }
      ],
      "source": [
        "# contar cantidad de columnas.\n",
        "\n",
        "df.count()\n",
        "\n",
        "# Hay algunos valores de tipo \"Height\" y \"Wheight\" faltantes.\n",
        "#Hay muchos valores de tipo \"Medal\" que no estan. Sera porque no ganaron medalla y los dejaron vacios en vez de poner Nan?"
      ]
    },
    {
      "cell_type": "code",
      "execution_count": 14,
      "metadata": {
        "id": "ooNlv6Q43oug",
        "colab": {
          "base_uri": "https://localhost:8080/"
        },
        "outputId": "16e5a4f4-59ab-4b38-9ce8-1e95c0da4afe"
      },
      "outputs": [
        {
          "output_type": "stream",
          "name": "stdout",
          "text": [
            "ID        0\n",
            "Name      0\n",
            "Sex       0\n",
            "Age       0\n",
            "Height    0\n",
            "Weight    0\n",
            "Team      0\n",
            "NOC       0\n",
            "Year      0\n",
            "Season    0\n",
            "City      0\n",
            "Sport     0\n",
            "Event     0\n",
            "Medal     0\n",
            "dtype: int64\n"
          ]
        }
      ],
      "source": [
        "#Cantidad de columnas Nulas\n",
        "print(df.isnull().sum())"
      ]
    },
    {
      "cell_type": "code",
      "execution_count": 13,
      "metadata": {
        "id": "xkFAHsg24nCz"
      },
      "outputs": [],
      "source": [
        "#Borrar Columnas Vacias (Ya las borre)\n",
        "df = df.dropna()"
      ]
    },
    {
      "cell_type": "code",
      "execution_count": 15,
      "metadata": {
        "id": "RYfvyixNLsvt",
        "colab": {
          "base_uri": "https://localhost:8080/"
        },
        "outputId": "b7125831-7bbb-42c4-a6d0-0c795c5cb131"
      },
      "outputs": [
        {
          "output_type": "execute_result",
          "data": {
            "text/plain": [
              "24.0    1026\n",
              "25.0     976\n",
              "26.0     968\n",
              "27.0     948\n",
              "23.0     944\n",
              "22.0     891\n",
              "28.0     890\n",
              "29.0     730\n",
              "21.0     678\n",
              "30.0     628\n",
              "31.0     499\n",
              "20.0     475\n",
              "32.0     406\n",
              "19.0     332\n",
              "33.0     298\n",
              "34.0     243\n",
              "18.0     179\n",
              "35.0     162\n",
              "36.0     143\n",
              "17.0     117\n",
              "16.0      88\n",
              "37.0      74\n",
              "38.0      61\n",
              "39.0      50\n",
              "40.0      45\n",
              "41.0      29\n",
              "15.0      28\n",
              "42.0      28\n",
              "43.0      19\n",
              "44.0      18\n",
              "46.0      18\n",
              "45.0      15\n",
              "47.0      10\n",
              "52.0       6\n",
              "49.0       6\n",
              "51.0       4\n",
              "50.0       3\n",
              "48.0       3\n",
              "54.0       2\n",
              "58.0       1\n",
              "53.0       1\n",
              "56.0       1\n",
              "55.0       1\n",
              "61.0       1\n",
              "Name: Age, dtype: int64"
            ]
          },
          "metadata": {},
          "execution_count": 15
        }
      ],
      "source": [
        "# Agrupados por edad\n",
        "df.Age.value_counts()"
      ]
    },
    {
      "cell_type": "code",
      "execution_count": null,
      "metadata": {
        "id": "2LBk0lkSLyVA"
      },
      "outputs": [],
      "source": [
        "# Agrupados por Sexo\n",
        "df.Sex.value_counts()"
      ]
    },
    {
      "cell_type": "code",
      "execution_count": null,
      "metadata": {
        "id": "Nm5PrQufa11i"
      },
      "outputs": [],
      "source": [
        "surveys_df['NOC'].describe()"
      ]
    },
    {
      "cell_type": "code",
      "execution_count": null,
      "metadata": {
        "id": "zE_TQT1ibsj7"
      },
      "outputs": [],
      "source": [
        "\n",
        "surveys_df['Age'].std()\n"
      ]
    },
    {
      "cell_type": "code",
      "execution_count": null,
      "metadata": {
        "id": "EaMq5YCTcdQj"
      },
      "outputs": [],
      "source": [
        "surveys_df['Age'].count()"
      ]
    },
    {
      "cell_type": "code",
      "execution_count": null,
      "metadata": {
        "id": "n1zRPEDkcDpK"
      },
      "outputs": [],
      "source": [
        "surveys_df['Age'].mean()\n"
      ]
    },
    {
      "cell_type": "code",
      "execution_count": null,
      "metadata": {
        "id": "-E5ox00dcIkb"
      },
      "outputs": [],
      "source": [
        "surveys_df['Age'].max()"
      ]
    },
    {
      "cell_type": "code",
      "execution_count": null,
      "metadata": {
        "id": "qHPgG-ZNb2lj"
      },
      "outputs": [],
      "source": [
        "surveys_df['Age'].min()"
      ]
    },
    {
      "cell_type": "code",
      "execution_count": null,
      "metadata": {
        "id": "cKOsvTXccmG6"
      },
      "outputs": [],
      "source": [
        "grouped_data = surveys_df.groupby('Sex')"
      ]
    },
    {
      "cell_type": "code",
      "execution_count": null,
      "metadata": {
        "id": "DM4h8bAPcvLj"
      },
      "outputs": [],
      "source": [
        "grouped_data.describe()"
      ]
    },
    {
      "cell_type": "markdown",
      "metadata": {
        "id": "TDX5D8RKhl96"
      },
      "source": []
    },
    {
      "cell_type": "code",
      "execution_count": null,
      "metadata": {
        "id": "Nq18fP3DdFm7"
      },
      "outputs": [],
      "source": [
        "grouped_data.mean()"
      ]
    },
    {
      "cell_type": "code",
      "execution_count": null,
      "metadata": {
        "id": "SpRTssNu2f7I"
      },
      "outputs": [],
      "source": []
    },
    {
      "cell_type": "code",
      "execution_count": null,
      "metadata": {
        "id": "JqiG0e-yQyG8"
      },
      "outputs": [],
      "source": [
        "print(surveys_df[surveys_df.Medal =='Gold'])"
      ]
    },
    {
      "cell_type": "code",
      "execution_count": null,
      "metadata": {
        "id": "ZmkNCy1CiS0g"
      },
      "outputs": [],
      "source": [
        "surveys_df.Sport.value_counts()"
      ]
    },
    {
      "cell_type": "code",
      "execution_count": null,
      "metadata": {
        "id": "zK43xtGnXSJD"
      },
      "outputs": [],
      "source": [
        "import matplotlib.pyplot as plt\n",
        "my_plot = surveys_df.plot(\"Age\", \"Year\", kind=\"scatter\")\n",
        "plt.show() "
      ]
    },
    {
      "cell_type": "code",
      "execution_count": null,
      "metadata": {
        "id": "qlCWqAb-oj2V"
      },
      "outputs": [],
      "source": [
        "print (surveys_df.groupby(by=['Medal','NOC']).count().groupby(level=[0]).cumsum())"
      ]
    },
    {
      "cell_type": "code",
      "execution_count": null,
      "metadata": {
        "id": "4N1_KJoguxXN"
      },
      "outputs": [],
      "source": [
        "df_pais_medals = surveys_df[['NOC','Medal']]"
      ]
    },
    {
      "cell_type": "code",
      "execution_count": null,
      "metadata": {
        "id": "hUhfeuwfvdbF"
      },
      "outputs": [],
      "source": [
        "df_pais_medals"
      ]
    },
    {
      "cell_type": "code",
      "execution_count": null,
      "metadata": {
        "colab": {
          "base_uri": "https://localhost:8080/"
        },
        "id": "va_7eRQtvlrQ",
        "outputId": "42fcd557-6c21-4d6e-aaab-cc58e7e66d3a"
      },
      "outputs": [
        {
          "name": "stdout",
          "output_type": "stream",
          "text": [
            "Bronze    4152\n",
            "Gold      4009\n",
            "Silver    3977\n",
            "Name: Medal, dtype: int64\n"
          ]
        }
      ],
      "source": [
        "print(df_pais_medals[\"Medal\"].value_counts())"
      ]
    },
    {
      "cell_type": "code",
      "execution_count": null,
      "metadata": {
        "colab": {
          "base_uri": "https://localhost:8080/"
        },
        "id": "aDjpQ3fOx8di",
        "outputId": "d56b666a-7071-4684-b2e1-2d47d1faa72f"
      },
      "outputs": [
        {
          "name": "stdout",
          "output_type": "stream",
          "text": [
            "     NOC   Medal  total_medal\n",
            "0    AFG  Bronze            2\n",
            "1    ALG  Bronze            4\n",
            "2    ALG    Gold            2\n",
            "3    ALG  Silver            4\n",
            "4    ARG  Bronze           58\n",
            "..   ...     ...          ...\n",
            "278  VIE    Gold            1\n",
            "279  VIE  Silver            3\n",
            "280  ZIM  Bronze            1\n",
            "281  ZIM    Gold            2\n",
            "282  ZIM  Silver            4\n",
            "\n",
            "[283 rows x 3 columns]\n"
          ]
        }
      ],
      "source": [
        "group=df_pais_medals.groupby([\"NOC\",\"Medal\"])\n",
        "medallas = group.size().reset_index(name='total_medal')\n",
        "print(medallas)"
      ]
    },
    {
      "cell_type": "code",
      "execution_count": null,
      "metadata": {
        "colab": {
          "base_uri": "https://localhost:8080/",
          "height": 165
        },
        "id": "cU8whvPT7SBI",
        "outputId": "3137f4dc-d41f-427f-9e7f-b79c3b3a96d9"
      },
      "outputs": [
        {
          "ename": "TypeError",
          "evalue": "ignored",
          "output_type": "error",
          "traceback": [
            "\u001b[0;31m---------------------------------------------------------------------------\u001b[0m",
            "\u001b[0;31mTypeError\u001b[0m                                 Traceback (most recent call last)",
            "\u001b[0;32m<ipython-input-32-552fcbe07448>\u001b[0m in \u001b[0;36m<module>\u001b[0;34m\u001b[0m\n\u001b[0;32m----> 1\u001b[0;31m \u001b[0mmedallas\u001b[0m\u001b[0;34m.\u001b[0m\u001b[0mNOC\u001b[0m\u001b[0;34m.\u001b[0m\u001b[0msize\u001b[0m\u001b[0;34m(\u001b[0m\u001b[0;34m)\u001b[0m\u001b[0;34m\u001b[0m\u001b[0;34m\u001b[0m\u001b[0m\n\u001b[0m",
            "\u001b[0;31mTypeError\u001b[0m: 'int' object is not callable"
          ]
        }
      ],
      "source": [
        "medallas.NOC.size()"
      ]
    },
    {
      "cell_type": "code",
      "execution_count": null,
      "metadata": {
        "colab": {
          "base_uri": "https://localhost:8080/"
        },
        "id": "-PnK_8GD3eZX",
        "outputId": "f27346e3-0aab-4f17-977b-3745ccca296e"
      },
      "outputs": [
        {
          "name": "stdout",
          "output_type": "stream",
          "text": [
            "   NOC   Gold  Silver  Bronze  Unnamed: 4  Unnamed: 5\n",
            "0  ROU   61.0    22.0    56.0         NaN         NaN\n",
            "1  ESP   28.0   135.0    87.0         NaN         NaN\n",
            "2  ITA   94.0   145.0   177.0         NaN         NaN\n",
            "3  AZE    7.0    11.0    25.0         NaN         NaN\n",
            "4  FRA  132.0   166.0   138.0         NaN         NaN\n"
          ]
        },
        {
          "name": "stderr",
          "output_type": "stream",
          "text": [
            "/usr/local/lib/python3.7/dist-packages/IPython/core/interactiveshell.py:3326: DtypeWarning: Columns (0) have mixed types.Specify dtype option on import or set low_memory=False.\n",
            "  exec(code_obj, self.user_global_ns, self.user_ns)\n"
          ]
        }
      ],
      "source": [
        "url = 'https://raw.githubusercontent.com/FLucioni/olimpiadas/main/medallas_noc.csv'\n",
        "df1 = pd.read_csv(url, sep = ';')\n",
        "print(df1.head())"
      ]
    },
    {
      "cell_type": "code",
      "execution_count": null,
      "metadata": {
        "colab": {
          "base_uri": "https://localhost:8080/"
        },
        "id": "4JKwO-w74Grs",
        "outputId": "9e07d06d-7205-4726-b218-dc07b134b648"
      },
      "outputs": [
        {
          "name": "stdout",
          "output_type": "stream",
          "text": [
            "   NOC   Gold  Silver  Bronze\n",
            "0  ROU   61.0    22.0    56.0\n",
            "1  ESP   28.0   135.0    87.0\n",
            "2  ITA   94.0   145.0   177.0\n",
            "3  AZE    7.0    11.0    25.0\n",
            "4  FRA  132.0   166.0   138.0\n"
          ]
        }
      ],
      "source": [
        "df1.dropna(how='all', axis=1, inplace=True) \n",
        "print(df1.head())"
      ]
    },
    {
      "cell_type": "code",
      "execution_count": null,
      "metadata": {
        "colab": {
          "background_save": true,
          "base_uri": "https://localhost:8080/"
        },
        "id": "boKh7ZCvgvrO",
        "outputId": "9d829bab-998a-4510-f840-f35bead7a507"
      },
      "outputs": [
        {
          "ename": "AttributeError",
          "evalue": "ignored",
          "output_type": "error",
          "traceback": [
            "\u001b[0;31m---------------------------------------------------------------------------\u001b[0m",
            "\u001b[0;31mAttributeError\u001b[0m                            Traceback (most recent call last)",
            "\u001b[0;32m<ipython-input-5-598313ecf659>\u001b[0m in \u001b[0;36m<module>\u001b[0;34m\u001b[0m\n\u001b[1;32m     16\u001b[0m \u001b[0;34m\u001b[0m\u001b[0m\n\u001b[1;32m     17\u001b[0m \u001b[0;31m# Etiquetas en barras\u001b[0m\u001b[0;34m\u001b[0m\u001b[0;34m\u001b[0m\u001b[0;34m\u001b[0m\u001b[0m\n\u001b[0;32m---> 18\u001b[0;31m \u001b[0max\u001b[0m\u001b[0;34m.\u001b[0m\u001b[0mbar_label\u001b[0m\u001b[0;34m(\u001b[0m\u001b[0mgolden_medals\u001b[0m\u001b[0;34m,\u001b[0m \u001b[0mpadding\u001b[0m\u001b[0;34m=\u001b[0m\u001b[0;36m3\u001b[0m\u001b[0;34m)\u001b[0m\u001b[0;34m\u001b[0m\u001b[0;34m\u001b[0m\u001b[0m\n\u001b[0m\u001b[1;32m     19\u001b[0m \u001b[0max\u001b[0m\u001b[0;34m.\u001b[0m\u001b[0mbar_label\u001b[0m\u001b[0;34m(\u001b[0m\u001b[0msilver_medals\u001b[0m\u001b[0;34m,\u001b[0m \u001b[0mpadding\u001b[0m\u001b[0;34m=\u001b[0m\u001b[0;36m3\u001b[0m\u001b[0;34m)\u001b[0m\u001b[0;34m\u001b[0m\u001b[0;34m\u001b[0m\u001b[0m\n\u001b[1;32m     20\u001b[0m \u001b[0max\u001b[0m\u001b[0;34m.\u001b[0m\u001b[0mbar_label\u001b[0m\u001b[0;34m(\u001b[0m\u001b[0mbronze_medals\u001b[0m\u001b[0;34m,\u001b[0m \u001b[0mpadding\u001b[0m\u001b[0;34m=\u001b[0m\u001b[0;36m3\u001b[0m\u001b[0;34m)\u001b[0m\u001b[0;34m\u001b[0m\u001b[0;34m\u001b[0m\u001b[0m\n",
            "\u001b[0;31mAttributeError\u001b[0m: 'AxesSubplot' object has no attribute 'bar_label'"
          ]
        },
        {
          "name": "stderr",
          "output_type": "stream",
          "text": [
            "/usr/local/lib/python3.7/dist-packages/IPython/core/events.py:88: UserWarning: Creating legend with loc=\"best\" can be slow with large amounts of data.\n",
            "  func(*args, **kwargs)\n",
            "/usr/local/lib/python3.7/dist-packages/IPython/core/pylabtools.py:128: UserWarning: Creating legend with loc=\"best\" can be slow with large amounts of data.\n",
            "  fig.canvas.print_figure(bytes_io, **kw)\n"
          ]
        },
        {
          "data": {
            "image/png": "[encoded data removed]",
            "text/plain": [
              "<Figure size 800x500 with 1 Axes>"
            ]
          },
          "metadata": {},
          "output_type": "display_data"
        }
      ],
      "source": [
        "fig, ax = plt.subplots(figsize=(8, 5), dpi=100)  # 800x500 px\n",
        "\n",
        "bar_width = 0.30\n",
        "x = np.arange(df1.index.size)\n",
        "\n",
        "golden_medals = ax.bar(x - bar_width, df1['Gold'],\n",
        "                       bar_width, label='Oro', color='#ffd700')\n",
        "silver_medals = ax.bar(x, df1['Silver'],\n",
        "                       bar_width, label='Plata', color='#aaa9ad')\n",
        "bronze_medals = ax.bar(x + bar_width, df1['Silver'],\n",
        "                       bar_width, label='Bronce', color='#cd7f32')\n",
        "\n",
        "ax.set_xticks(x)\n",
        "ax.set_xticklabels(df1.index, rotation=90)\n",
        "ax.legend()\n",
        "\n",
        "# Etiquetas en barras\n",
        "ax.bar_label(golden_medals, padding=3)\n",
        "ax.bar_label(silver_medals, padding=3)\n",
        "ax.bar_label(bronze_medals, padding=3)\n",
        "\n",
        "ax.spines['right'].set_visible(False)  # ocultar borde derecho\n",
        "ax.spines['top'].set_visible(False)    # ocultar borde superior\n",
        "\n",
        "fig.tight_layout()  # ajustar elementos al tamaño de la figura\n",
        "fig"
      ]
    }
  ],
  "metadata": {
    "colab": {
      "provenance": [],
      "include_colab_link": true
    },
    "kernelspec": {
      "display_name": "Python 3",
      "name": "python3"
    },
    "language_info": {
      "name": "python"
    }
  },
  "nbformat": 4,
  "nbformat_minor": 0
}