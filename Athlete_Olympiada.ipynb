{
  "cells": [
    {
      "cell_type": "markdown",
      "metadata": {
        "id": "view-in-github",
        "colab_type": "text"
      },
      "source": [
        "<a href=\"https://colab.research.google.com/github/Horidefelipe/Curso_py/blob/main/Athlete_Olympiada.ipynb\" target=\"_parent\"><img src=\"https://colab.research.google.com/assets/colab-badge.svg\" alt=\"Open In Colab\"/></a>"
      ]
    },
    {
      "cell_type": "code",
      "execution_count": 2,
      "metadata": {
        "id": "ZsuORRSaI12Q"
      },
      "outputs": [],
      "source": [
        "import pandas as pd\n",
        "import altair as alt\n",
        "import seaborn as sns   \n",
        "import numpy as np  #Libreria para insertar vectores\n",
        "import matplotlib.pyplot as plt #Libreria para insertar graficos"
      ]
    },
    {
      "cell_type": "code",
      "execution_count": null,
      "metadata": {
        "id": "oysCLFOkN_eN"
      },
      "outputs": [],
      "source": [
        "url = 'https://raw.githubusercontent.com/FLucioni/olimpiadas/games/olimpicos.csv'\n",
        "df = pd.read_csv(url, sep = ';')\n",
        "print(df.head())"
      ]
    },
    {
      "cell_type": "code",
      "execution_count": null,
      "metadata": {
        "id": "slt-CVvGZhGr"
      },
      "outputs": [],
      "source": [
        "surveys_df = pd.read_csv(url, sep = ';')"
      ]
    },
    {
      "cell_type": "code",
      "source": [
        "dfmedals = df.query('Medal!=\"NaN\"') #Creo un DataFrame unicamente con quienes ganaron medallas."
      ],
      "metadata": {
        "id": "BF6ZJi5Fi3g1"
      },
      "execution_count": null,
      "outputs": []
    },
    {
      "cell_type": "markdown",
      "source": [
        "DataFrames\n",
        "\n"
      ],
      "metadata": {
        "id": "7rXDl65ESgow"
      }
    },
    {
      "cell_type": "code",
      "execution_count": 88,
      "metadata": {
        "id": "CIDIkqEQZv1h"
      },
      "outputs": [],
      "source": [
        "surveys_df  #Dataframe Original\n",
        "dfmedals #Dataframe con participantes que ganaron alguna medalla\n",
        "\n",
        "columnas = ['NOC','Medal','Sex','Name'] #Dataframe con unicamente las columnas con NOC ,Medal (De quienes ganaron medallas)\n",
        "dfNOC = dfmedals[[*columnas]] #''"
      ]
    },
    {
      "cell_type": "markdown",
      "source": [
        "** Analisis de los datos**\n"
      ],
      "metadata": {
        "id": "x2kz06se09CD"
      }
    },
    {
      "cell_type": "code",
      "source": [
        "#Ver nombre de las columnas\n",
        "surveys_df.columns"
      ],
      "metadata": {
        "id": "GJebliJwQg2W"
      },
      "execution_count": null,
      "outputs": []
    },
    {
      "cell_type": "code",
      "source": [
        "surveys_df.shape\n",
        "#(Rows,Columns)"
      ],
      "metadata": {
        "id": "LqvSXOEKQsnZ"
      },
      "execution_count": null,
      "outputs": []
    },
    {
      "cell_type": "code",
      "execution_count": null,
      "metadata": {
        "id": "oVbUUVlVaQ6C"
      },
      "outputs": [],
      "source": [
        "#Tipos de datos\n",
        "surveys_df.dtypes \n"
      ]
    },
    {
      "cell_type": "code",
      "source": [
        " #analizo variables estadísticas\n",
        "summary = df.describe(include='all').transpose() \n",
        "summary"
      ],
      "metadata": {
        "id": "79T6PClIQm4K"
      },
      "execution_count": null,
      "outputs": []
    },
    {
      "cell_type": "code",
      "source": [
        "#Valores atipicos en la Edad\n",
        "# EL valor atipico mas grande, pertenece a un participante de 71 anios\n",
        "sns.boxplot(x=df['Age'])"
      ],
      "metadata": {
        "id": "Ie44xS_x3B9F",
        "outputId": "58133660-d3f8-4872-9585-c5a102c4c001",
        "colab": {
          "base_uri": "https://localhost:8080/",
          "height": 297
        }
      },
      "execution_count": 127,
      "outputs": [
        {
          "output_type": "execute_result",
          "data": {
            "text/plain": [
              "<matplotlib.axes._subplots.AxesSubplot at 0x7f477014de50>"
            ]
          },
          "metadata": {},
          "execution_count": 127
        },
        {
          "output_type": "display_data",
          "data": {
            "text/plain": [
              "<Figure size 432x288 with 1 Axes>"
            ],
            "image/png": "[encoded data removed]"
          },
          "metadata": {
            "needs_background": "light"
          }
        }
      ]
    },
    {
      "cell_type": "code",
      "source": [
        "# Agrupados por Sexo\n",
        "df.Sex.value_counts()"
      ],
      "metadata": {
        "id": "alfr2-Jo3bgO"
      },
      "execution_count": null,
      "outputs": []
    },
    {
      "cell_type": "code",
      "source": [
        "serie = df.Sex.value_counts()\n",
        "serie.plot.pie(autopct='%1.1f%%')"
      ],
      "metadata": {
        "id": "hdiBEH8v3bma",
        "outputId": "abaabe8f-0bdd-41c2-ef96-243b6fc6f1fd",
        "colab": {
          "base_uri": "https://localhost:8080/",
          "height": 266
        }
      },
      "execution_count": 126,
      "outputs": [
        {
          "output_type": "execute_result",
          "data": {
            "text/plain": [
              "<matplotlib.axes._subplots.AxesSubplot at 0x7f4770115d50>"
            ]
          },
          "metadata": {},
          "execution_count": 126
        },
        {
          "output_type": "display_data",
          "data": {
            "text/plain": [
              "<Figure size 432x288 with 1 Axes>"
            ],
            "image/png": "[encoded data removed]"
          },
          "metadata": {}
        }
      ]
    },
    {
      "cell_type": "code",
      "source": [
        "# contar cantidad de columnas.\n",
        "\n",
        "df.count()\n",
        "\n",
        "# Hay algunos valores de tipo \"Height\" y \"Wheight\" faltantes.\n",
        "#Hay muchos valores de tipo \"Medal\" que no estan. Sera porque no ganaron medalla y los dejaron vacios en vez de poner Nan?"
      ],
      "metadata": {
        "id": "LGwrutL2Q56O"
      },
      "execution_count": null,
      "outputs": []
    },
    {
      "cell_type": "code",
      "source": [
        "#Cantidad de columnas Nulas\n",
        "print(df.isnull().sum())"
      ],
      "metadata": {
        "id": "KmKQrzjUQ66m"
      },
      "execution_count": null,
      "outputs": []
    },
    {
      "cell_type": "markdown",
      "source": [
        "Limpieza de Datos"
      ],
      "metadata": {
        "id": "-iLOljTP1G9b"
      }
    },
    {
      "cell_type": "code",
      "source": [
        "#Borrar Columnas Vacias (Ya las borre)\n",
        "df = df.dropna()"
      ],
      "metadata": {
        "id": "L42_CCNgRGHP"
      },
      "execution_count": 12,
      "outputs": []
    },
    {
      "cell_type": "markdown",
      "source": [
        "df01 - Top 10 Personas con mas medallas (gold, Silver , Bronce)"
      ],
      "metadata": {
        "id": "hkkA5wxL2eY7"
      }
    },
    {
      "cell_type": "code",
      "source": [
        "columnas = ['NOC','Medal','Name'] #Dataframe con unicamente las columnas con NOC ,Medal y Name\n",
        "df01 = dfmedals[[*columnas]] \n",
        "\n",
        "#Persona con mas medallas de Oro.\n",
        "df01[df.Medal == 'Gold'].groupby([\"Name\",'NOC']).count().sort_values(\"Medal\",ascending = False).head(10)\n",
        "\n"
      ],
      "metadata": {
        "id": "Z3Y-P9yBJopz"
      },
      "execution_count": null,
      "outputs": []
    },
    {
      "cell_type": "code",
      "source": [
        "#Persona con mas medallas de Plata.\n",
        "df01[df.Medal == 'Silver'].groupby([\"Name\",'NOC']).count().sort_values(\"Medal\",ascending = False).head(10)\n"
      ],
      "metadata": {
        "id": "IQ41HVc95QtA"
      },
      "execution_count": null,
      "outputs": []
    },
    {
      "cell_type": "code",
      "source": [
        "#Persona con mas medallas de Bronce.\n",
        "df01[df.Medal == 'Bronze'].groupby([\"Name\",'NOC']).count().sort_values(\"Medal\",ascending = False).head(10)\n"
      ],
      "metadata": {
        "id": "wa5ydPgO5XjB"
      },
      "execution_count": null,
      "outputs": []
    },
    {
      "cell_type": "markdown",
      "source": [
        "df02 - Top 10 Paises con mas Participantes"
      ],
      "metadata": {
        "id": "TwIoCTDQ57_i"
      }
    },
    {
      "cell_type": "code",
      "source": [
        "columnas = ['NOC','Year','ID'] #Dataframe con unicamente las columnas con NOC ,Medal y Name\n",
        "df02 = df[[*columnas]] \n",
        "df02.groupby(['NOC','Year']).count().sort_values(\"ID\",ascending = False).head(10)\n"
      ],
      "metadata": {
        "id": "qWlvuYx_89xg",
        "outputId": "1363ad62-5e53-41b1-cbb6-d07d4a7bd651",
        "colab": {
          "base_uri": "https://localhost:8080/",
          "height": 394
        }
      },
      "execution_count": 140,
      "outputs": [
        {
          "output_type": "execute_result",
          "data": {
            "text/plain": [
              "             ID\n",
              "NOC Year       \n",
              "USA 2008.0  316\n",
              "    2016.0  263\n",
              "    2004.0  262\n",
              "    2012.0  248\n",
              "    2000.0  241\n",
              "RUS 2004.0  189\n",
              "    2000.0  186\n",
              "CHN 2008.0  184\n",
              "AUS 2000.0  183\n",
              "GER 2016.0  159"
            ],
            "text/html": [
              "\n",
              "  <div id=\"df-4aa58160-42d3-4a07-bdab-05e32fd12e46\">\n",
              "    <div class=\"colab-df-container\">\n",
              "      <div>\n",
              "<style scoped>\n",
              "    .dataframe tbody tr th:only-of-type {\n",
              "        vertical-align: middle;\n",
              "    }\n",
              "\n",
              "    .dataframe tbody tr th {\n",
              "        vertical-align: top;\n",
              "    }\n",
              "\n",
              "    .dataframe thead th {\n",
              "        text-align: right;\n",
              "    }\n",
              "</style>\n",
              "<table border=\"1\" class=\"dataframe\">\n",
              "  <thead>\n",
              "    <tr style=\"text-align: right;\">\n",
              "      <th></th>\n",
              "      <th></th>\n",
              "      <th>ID</th>\n",
              "    </tr>\n",
              "    <tr>\n",
              "      <th>NOC</th>\n",
              "      <th>Year</th>\n",
              "      <th></th>\n",
              "    </tr>\n",
              "  </thead>\n",
              "  <tbody>\n",
              "    <tr>\n",
              "      <th rowspan=\"5\" valign=\"top\">USA</th>\n",
              "      <th>2008.0</th>\n",
              "      <td>316</td>\n",
              "    </tr>\n",
              "    <tr>\n",
              "      <th>2016.0</th>\n",
              "      <td>263</td>\n",
              "    </tr>\n",
              "    <tr>\n",
              "      <th>2004.0</th>\n",
              "      <td>262</td>\n",
              "    </tr>\n",
              "    <tr>\n",
              "      <th>2012.0</th>\n",
              "      <td>248</td>\n",
              "    </tr>\n",
              "    <tr>\n",
              "      <th>2000.0</th>\n",
              "      <td>241</td>\n",
              "    </tr>\n",
              "    <tr>\n",
              "      <th rowspan=\"2\" valign=\"top\">RUS</th>\n",
              "      <th>2004.0</th>\n",
              "      <td>189</td>\n",
              "    </tr>\n",
              "    <tr>\n",
              "      <th>2000.0</th>\n",
              "      <td>186</td>\n",
              "    </tr>\n",
              "    <tr>\n",
              "      <th>CHN</th>\n",
              "      <th>2008.0</th>\n",
              "      <td>184</td>\n",
              "    </tr>\n",
              "    <tr>\n",
              "      <th>AUS</th>\n",
              "      <th>2000.0</th>\n",
              "      <td>183</td>\n",
              "    </tr>\n",
              "    <tr>\n",
              "      <th>GER</th>\n",
              "      <th>2016.0</th>\n",
              "      <td>159</td>\n",
              "    </tr>\n",
              "  </tbody>\n",
              "</table>\n",
              "</div>\n",
              "      <button class=\"colab-df-convert\" onclick=\"convertToInteractive('df-4aa58160-42d3-4a07-bdab-05e32fd12e46')\"\n",
              "              title=\"Convert this dataframe to an interactive table.\"\n",
              "              style=\"display:none;\">\n",
              "        \n",
              "  <svg xmlns=\"http://www.w3.org/2000/svg\" height=\"24px\"viewBox=\"0 0 24 24\"\n",
              "       width=\"24px\">\n",
              "    <path d=\"M0 0h24v24H0V0z\" fill=\"none\"/>\n",
              "    <path d=\"M18.56 5.44l.94 2.06.94-2.06 2.06-.94-2.06-.94-.94-2.06-.94 2.06-2.06.94zm-11 1L8.5 8.5l.94-2.06 2.06-.94-2.06-.94L8.5 2.5l-.94 2.06-2.06.94zm10 10l.94 2.06.94-2.06 2.06-.94-2.06-.94-.94-2.06-.94 2.06-2.06.94z\"/><path d=\"M17.41 7.96l-1.37-1.37c-.4-.4-.92-.59-1.43-.59-.52 0-1.04.2-1.43.59L10.3 9.45l-7.72 7.72c-.78.78-.78 2.05 0 2.83L4 21.41c.39.39.9.59 1.41.59.51 0 1.02-.2 1.41-.59l7.78-7.78 2.81-2.81c.8-.78.8-2.07 0-2.86zM5.41 20L4 18.59l7.72-7.72 1.47 1.35L5.41 20z\"/>\n",
              "  </svg>\n",
              "      </button>\n",
              "      \n",
              "  <style>\n",
              "    .colab-df-container {\n",
              "      display:flex;\n",
              "      flex-wrap:wrap;\n",
              "      gap: 12px;\n",
              "    }\n",
              "\n",
              "    .colab-df-convert {\n",
              "      background-color: #E8F0FE;\n",
              "      border: none;\n",
              "      border-radius: 50%;\n",
              "      cursor: pointer;\n",
              "      display: none;\n",
              "      fill: #1967D2;\n",
              "      height: 32px;\n",
              "      padding: 0 0 0 0;\n",
              "      width: 32px;\n",
              "    }\n",
              "\n",
              "    .colab-df-convert:hover {\n",
              "      background-color: #E2EBFA;\n",
              "      box-shadow: 0px 1px 2px rgba(60, 64, 67, 0.3), 0px 1px 3px 1px rgba(60, 64, 67, 0.15);\n",
              "      fill: #174EA6;\n",
              "    }\n",
              "\n",
              "    [theme=dark] .colab-df-convert {\n",
              "      background-color: #3B4455;\n",
              "      fill: #D2E3FC;\n",
              "    }\n",
              "\n",
              "    [theme=dark] .colab-df-convert:hover {\n",
              "      background-color: #434B5C;\n",
              "      box-shadow: 0px 1px 3px 1px rgba(0, 0, 0, 0.15);\n",
              "      filter: drop-shadow(0px 1px 2px rgba(0, 0, 0, 0.3));\n",
              "      fill: #FFFFFF;\n",
              "    }\n",
              "  </style>\n",
              "\n",
              "      <script>\n",
              "        const buttonEl =\n",
              "          document.querySelector('#df-4aa58160-42d3-4a07-bdab-05e32fd12e46 button.colab-df-convert');\n",
              "        buttonEl.style.display =\n",
              "          google.colab.kernel.accessAllowed ? 'block' : 'none';\n",
              "\n",
              "        async function convertToInteractive(key) {\n",
              "          const element = document.querySelector('#df-4aa58160-42d3-4a07-bdab-05e32fd12e46');\n",
              "          const dataTable =\n",
              "            await google.colab.kernel.invokeFunction('convertToInteractive',\n",
              "                                                     [key], {});\n",
              "          if (!dataTable) return;\n",
              "\n",
              "          const docLinkHtml = 'Like what you see? Visit the ' +\n",
              "            '<a target=\"_blank\" href=https://colab.research.google.com/notebooks/data_table.ipynb>data table notebook</a>'\n",
              "            + ' to learn more about interactive tables.';\n",
              "          element.innerHTML = '';\n",
              "          dataTable['output_type'] = 'display_data';\n",
              "          await google.colab.output.renderOutput(dataTable, element);\n",
              "          const docLink = document.createElement('div');\n",
              "          docLink.innerHTML = docLinkHtml;\n",
              "          element.appendChild(docLink);\n",
              "        }\n",
              "      </script>\n",
              "    </div>\n",
              "  </div>\n",
              "  "
            ]
          },
          "metadata": {},
          "execution_count": 140
        }
      ]
    },
    {
      "cell_type": "markdown",
      "source": [
        "df03 - Top 10 Paises con mas medallas (Gold, Silver , Bronce)"
      ],
      "metadata": {
        "id": "9y_ayDPr5k-S"
      }
    },
    {
      "cell_type": "code",
      "source": [
        "columnas = ['NOC','Medal'] #Dataframe con unicamente las columnas con NOC ,Medal \n",
        "df03 = dfmedals[[*columnas]] "
      ],
      "metadata": {
        "id": "pLQcKPAQ5sac"
      },
      "execution_count": 109,
      "outputs": []
    },
    {
      "cell_type": "code",
      "source": [
        "#Pais con mas medallas de Oro.\n",
        "df03[df.Medal == 'Gold'].groupby(['NOC']).count().sort_values(\"Medal\",ascending = False).head(10)\n"
      ],
      "metadata": {
        "id": "f1-9h4GRJaU4"
      },
      "execution_count": null,
      "outputs": []
    },
    {
      "cell_type": "code",
      "source": [
        "#Pais con mas medallas de Plata.\n",
        "df03[df.Medal == 'Silver'].groupby(['NOC']).count().sort_values(\"Medal\",ascending = False).head(10)\n"
      ],
      "metadata": {
        "id": "RUK_KB485xXp"
      },
      "execution_count": null,
      "outputs": []
    },
    {
      "cell_type": "code",
      "source": [
        "#Pais con mas medallas de Bronce.\n",
        "df03[df.Medal == 'Bronze'].groupby(['NOC']).count().sort_values(\"Medal\",ascending = False).head(10)\n"
      ],
      "metadata": {
        "id": "g-NlPt6P6E8c"
      },
      "execution_count": null,
      "outputs": []
    },
    {
      "cell_type": "markdown",
      "source": [
        "Top 10 Paises con mas Medallas Femeninas"
      ],
      "metadata": {
        "id": "sW7fUyHl72fC"
      }
    },
    {
      "cell_type": "code",
      "source": [
        "#Top 10 pais con mas Medallas Femeninas\n",
        "df02[dfmedals.Sex =='F'].groupby(['NOC']).count().sort_values('Medal',ascending = False).head(10)"
      ],
      "metadata": {
        "id": "ii6El8mM75KW"
      },
      "execution_count": null,
      "outputs": []
    },
    {
      "cell_type": "markdown",
      "source": [
        "Modalidades con mas participantes"
      ],
      "metadata": {
        "id": "5kwolkZH6uzz"
      }
    },
    {
      "cell_type": "code",
      "source": [
        "#Top 5 Modalidades con mas participantes\n",
        "surveys_df.Event.value_counts().head(5)"
      ],
      "metadata": {
        "id": "86IoArVa66LX",
        "outputId": "4a00a423-8702-4252-b45a-009264a5ac35",
        "colab": {
          "base_uri": "https://localhost:8080/"
        }
      },
      "execution_count": 119,
      "outputs": [
        {
          "output_type": "execute_result",
          "data": {
            "text/plain": [
              "Football Men's Football        1337\n",
              "Ice Hockey Men's Ice Hockey    1139\n",
              "Hockey Men's Hockey             971\n",
              "Hockey Women's Hockey           895\n",
              "Football Women's Football       888\n",
              "Name: Event, dtype: int64"
            ]
          },
          "metadata": {},
          "execution_count": 119
        }
      ]
    },
    {
      "cell_type": "code",
      "execution_count": 102,
      "metadata": {
        "id": "Nm5PrQufa11i",
        "colab": {
          "base_uri": "https://localhost:8080/"
        },
        "outputId": "e5747176-bb45-4cdf-ed11-8cbd802dec98"
      },
      "outputs": [
        {
          "output_type": "execute_result",
          "data": {
            "text/plain": [
              "count     85258\n",
              "unique      210\n",
              "top         USA\n",
              "freq       5007\n",
              "Name: NOC, dtype: object"
            ]
          },
          "metadata": {},
          "execution_count": 102
        }
      ],
      "source": [
        "surveys_df['NOC'].describe()"
      ]
    },
    {
      "cell_type": "code",
      "source": [
        "surveys_df['NOC'].unique()"
      ],
      "metadata": {
        "id": "cRsdcapyTCH8"
      },
      "execution_count": null,
      "outputs": []
    },
    {
      "cell_type": "code",
      "execution_count": null,
      "metadata": {
        "id": "zE_TQT1ibsj7"
      },
      "outputs": [],
      "source": [
        "\n",
        "surveys_df['Age'].std()\n"
      ]
    },
    {
      "cell_type": "code",
      "execution_count": 75,
      "metadata": {
        "id": "n1zRPEDkcDpK",
        "colab": {
          "base_uri": "https://localhost:8080/"
        },
        "outputId": "a1d62ff5-dff5-43cd-bdc3-76e20f234ed0"
      },
      "outputs": [
        {
          "output_type": "execute_result",
          "data": {
            "text/plain": [
              "25.834215002052666"
            ]
          },
          "metadata": {},
          "execution_count": 75
        }
      ],
      "source": [
        "surveys_df['Age'].mean()\n"
      ]
    },
    {
      "cell_type": "code",
      "execution_count": 76,
      "metadata": {
        "id": "qHPgG-ZNb2lj",
        "colab": {
          "base_uri": "https://localhost:8080/"
        },
        "outputId": "b337b54f-dce5-4d4f-efaa-4ab5838909a1"
      },
      "outputs": [
        {
          "output_type": "execute_result",
          "data": {
            "text/plain": [
              "12.0"
            ]
          },
          "metadata": {},
          "execution_count": 76
        }
      ],
      "source": [
        "surveys_df['Age'].min()"
      ]
    },
    {
      "cell_type": "markdown",
      "metadata": {
        "id": "TDX5D8RKhl96"
      },
      "source": []
    },
    {
      "cell_type": "code",
      "execution_count": 56,
      "metadata": {
        "id": "Nq18fP3DdFm7",
        "colab": {
          "base_uri": "https://localhost:8080/",
          "height": 169
        },
        "outputId": "379dca2e-1119-42f5-8219-4459c6faf0ce"
      },
      "outputs": [
        {
          "output_type": "error",
          "ename": "NameError",
          "evalue": "ignored",
          "traceback": [
            "\u001b[0;31m---------------------------------------------------------------------------\u001b[0m",
            "\u001b[0;31mNameError\u001b[0m                                 Traceback (most recent call last)",
            "\u001b[0;32m<ipython-input-56-ad2c67e8d48e>\u001b[0m in \u001b[0;36m<module>\u001b[0;34m\u001b[0m\n\u001b[0;32m----> 1\u001b[0;31m \u001b[0mgrouped_data\u001b[0m\u001b[0;34m.\u001b[0m\u001b[0mmean\u001b[0m\u001b[0;34m(\u001b[0m\u001b[0;34m)\u001b[0m\u001b[0;34m\u001b[0m\u001b[0;34m\u001b[0m\u001b[0m\n\u001b[0m",
            "\u001b[0;31mNameError\u001b[0m: name 'grouped_data' is not defined"
          ]
        }
      ],
      "source": [
        "grouped_data.mean()"
      ]
    },
    {
      "cell_type": "code",
      "execution_count": 81,
      "metadata": {
        "id": "zK43xtGnXSJD",
        "colab": {
          "base_uri": "https://localhost:8080/",
          "height": 279
        },
        "outputId": "bf4699ab-4932-444d-86a3-15c5c7f0b4a8"
      },
      "outputs": [
        {
          "output_type": "display_data",
          "data": {
            "text/plain": [
              "<Figure size 432x288 with 1 Axes>"
            ],
            "image/png": "[encoded data removed]"
          },
          "metadata": {
            "needs_background": "light"
          }
        }
      ],
      "source": [
        "import matplotlib.pyplot as plt\n",
        "my_plot = surveys_df.plot(\"Age\", \"Year\", kind=\"scatter\")\n",
        "plt.show() "
      ]
    },
    {
      "cell_type": "code",
      "source": [],
      "metadata": {
        "id": "Wg56lqXUXlgU"
      },
      "execution_count": null,
      "outputs": []
    },
    {
      "cell_type": "code",
      "source": [],
      "metadata": {
        "id": "SdFHplmdom6F"
      },
      "execution_count": null,
      "outputs": []
    },
    {
      "cell_type": "code",
      "source": [],
      "metadata": {
        "id": "j_DRDoiDa7BA"
      },
      "execution_count": null,
      "outputs": []
    },
    {
      "cell_type": "code",
      "execution_count": 96,
      "metadata": {
        "id": "qlCWqAb-oj2V",
        "colab": {
          "base_uri": "https://localhost:8080/"
        },
        "outputId": "8261f8e0-8b1d-4a09-abe6-7c3e7162a8f7"
      },
      "outputs": [
        {
          "output_type": "stream",
          "name": "stdout",
          "text": [
            "              ID  Name   Sex   Age  Height  Weight  Team  Year  Season  City  \\\n",
            "Medal  NOC                                                                     \n",
            "Bronze AFG     2     2     2     2       2       2     2     2       2     2   \n",
            "       ALG     6     6     6     6       6       6     6     6       6     6   \n",
            "       ARG    64    64    64    64      64      64    64    64      64    64   \n",
            "       ARM    73    73    73    73      72      73    73    73      73    73   \n",
            "       AUS   320   320   320   320     319     320   320   320     320   320   \n",
            "...          ...   ...   ...   ...     ...     ...   ...   ...     ...   ...   \n",
            "Silver USA  3963  3963  3963  3963    3958    3940  3963  3963    3963  3963   \n",
            "       UZB  3969  3969  3969  3969    3964    3946  3969  3969    3969  3969   \n",
            "       VEN  3970  3970  3970  3970    3965    3947  3970  3970    3970  3970   \n",
            "       VIE  3973  3973  3973  3973    3968    3950  3973  3973    3973  3973   \n",
            "       ZIM  3977  3977  3977  3977    3972    3954  3977  3977    3977  3977   \n",
            "\n",
            "            Sport  Event  \n",
            "Medal  NOC                \n",
            "Bronze AFG      2      2  \n",
            "       ALG      6      6  \n",
            "       ARG     64     64  \n",
            "       ARM     73     73  \n",
            "       AUS    320    320  \n",
            "...           ...    ...  \n",
            "Silver USA   3963   3963  \n",
            "       UZB   3969   3969  \n",
            "       VEN   3970   3970  \n",
            "       VIE   3973   3973  \n",
            "       ZIM   3977   3977  \n",
            "\n",
            "[283 rows x 12 columns]\n"
          ]
        }
      ],
      "source": [
        "print (surveys_df.groupby(by=['Medal','NOC']).count().groupby(level=[0]).cumsum())"
      ]
    },
    {
      "cell_type": "code",
      "execution_count": 87,
      "metadata": {
        "id": "4N1_KJoguxXN"
      },
      "outputs": [],
      "source": [
        "df_pais_medals = surveys_df[['NOC','Medal']]"
      ]
    },
    {
      "cell_type": "code",
      "execution_count": null,
      "metadata": {
        "colab": {
          "base_uri": "https://localhost:8080/"
        },
        "id": "va_7eRQtvlrQ",
        "outputId": "42fcd557-6c21-4d6e-aaab-cc58e7e66d3a"
      },
      "outputs": [
        {
          "name": "stdout",
          "output_type": "stream",
          "text": [
            "Bronze    4152\n",
            "Gold      4009\n",
            "Silver    3977\n",
            "Name: Medal, dtype: int64\n"
          ]
        }
      ],
      "source": [
        "print(df_pais_medals[\"Medal\"].value_counts())"
      ]
    },
    {
      "cell_type": "code",
      "execution_count": null,
      "metadata": {
        "colab": {
          "base_uri": "https://localhost:8080/"
        },
        "id": "aDjpQ3fOx8di",
        "outputId": "d56b666a-7071-4684-b2e1-2d47d1faa72f"
      },
      "outputs": [
        {
          "name": "stdout",
          "output_type": "stream",
          "text": [
            "     NOC   Medal  total_medal\n",
            "0    AFG  Bronze            2\n",
            "1    ALG  Bronze            4\n",
            "2    ALG    Gold            2\n",
            "3    ALG  Silver            4\n",
            "4    ARG  Bronze           58\n",
            "..   ...     ...          ...\n",
            "278  VIE    Gold            1\n",
            "279  VIE  Silver            3\n",
            "280  ZIM  Bronze            1\n",
            "281  ZIM    Gold            2\n",
            "282  ZIM  Silver            4\n",
            "\n",
            "[283 rows x 3 columns]\n"
          ]
        }
      ],
      "source": [
        "group=df_pais_medals.groupby([\"NOC\",\"Medal\"])\n",
        "medallas = group.size().reset_index(name='total_medal')\n",
        "print(medallas)"
      ]
    },
    {
      "cell_type": "code",
      "execution_count": 76,
      "metadata": {
        "colab": {
          "base_uri": "https://localhost:8080/",
          "height": 169
        },
        "id": "cU8whvPT7SBI",
        "outputId": "3cd89c47-e26e-45fe-e495-b0b500813c44"
      },
      "outputs": [
        {
          "output_type": "error",
          "ename": "NameError",
          "evalue": "ignored",
          "traceback": [
            "\u001b[0;31m---------------------------------------------------------------------------\u001b[0m",
            "\u001b[0;31mNameError\u001b[0m                                 Traceback (most recent call last)",
            "\u001b[0;32m<ipython-input-76-552fcbe07448>\u001b[0m in \u001b[0;36m<module>\u001b[0;34m\u001b[0m\n\u001b[0;32m----> 1\u001b[0;31m \u001b[0mmedallas\u001b[0m\u001b[0;34m.\u001b[0m\u001b[0mNOC\u001b[0m\u001b[0;34m.\u001b[0m\u001b[0msize\u001b[0m\u001b[0;34m(\u001b[0m\u001b[0;34m)\u001b[0m\u001b[0;34m\u001b[0m\u001b[0;34m\u001b[0m\u001b[0m\n\u001b[0m",
            "\u001b[0;31mNameError\u001b[0m: name 'medallas' is not defined"
          ]
        }
      ],
      "source": [
        "medallas.NOC.size()"
      ]
    },
    {
      "cell_type": "code",
      "execution_count": 77,
      "metadata": {
        "colab": {
          "base_uri": "https://localhost:8080/"
        },
        "id": "-PnK_8GD3eZX",
        "outputId": "8a6acb48-4d2f-4e3a-ef23-03095a2ae222"
      },
      "outputs": [
        {
          "output_type": "stream",
          "name": "stdout",
          "text": [
            "   NOC   Gold  Silver  Bronze  Unnamed: 4  Unnamed: 5\n",
            "0  ROU   61.0    22.0    56.0         NaN         NaN\n",
            "1  ESP   28.0   135.0    87.0         NaN         NaN\n",
            "2  ITA   94.0   145.0   177.0         NaN         NaN\n",
            "3  AZE    7.0    11.0    25.0         NaN         NaN\n",
            "4  FRA  132.0   166.0   138.0         NaN         NaN\n"
          ]
        },
        {
          "output_type": "stream",
          "name": "stderr",
          "text": [
            "/usr/local/lib/python3.7/dist-packages/IPython/core/interactiveshell.py:3326: DtypeWarning: Columns (0) have mixed types.Specify dtype option on import or set low_memory=False.\n",
            "  exec(code_obj, self.user_global_ns, self.user_ns)\n"
          ]
        }
      ],
      "source": [
        "url = 'https://raw.githubusercontent.com/FLucioni/olimpiadas/main/medallas_noc.csv'\n",
        "df1 = pd.read_csv(url, sep = ';')\n",
        "print(df1.head())"
      ]
    },
    {
      "cell_type": "code",
      "execution_count": 19,
      "metadata": {
        "colab": {
          "base_uri": "https://localhost:8080/"
        },
        "id": "4JKwO-w74Grs",
        "outputId": "e474c8f9-1afe-454f-c65c-38208d0be2e6"
      },
      "outputs": [
        {
          "output_type": "stream",
          "name": "stdout",
          "text": [
            "   NOC   Gold  Silver  Bronze\n",
            "0  ROU   61.0    22.0    56.0\n",
            "1  ESP   28.0   135.0    87.0\n",
            "2  ITA   94.0   145.0   177.0\n",
            "3  AZE    7.0    11.0    25.0\n",
            "4  FRA  132.0   166.0   138.0\n"
          ]
        }
      ],
      "source": [
        "df1.dropna(how='all', axis=1, inplace=True) \n",
        "print(df1.head())"
      ]
    },
    {
      "cell_type": "code",
      "execution_count": 78,
      "metadata": {
        "colab": {
          "base_uri": "https://localhost:8080/",
          "height": 815
        },
        "id": "boKh7ZCvgvrO",
        "outputId": "87a90e98-2c32-4518-c0c1-6b6191171944"
      },
      "outputs": [
        {
          "output_type": "error",
          "ename": "KeyboardInterrupt",
          "evalue": "ignored",
          "traceback": [
            "\u001b[0;31m---------------------------------------------------------------------------\u001b[0m",
            "\u001b[0;31mKeyboardInterrupt\u001b[0m                         Traceback (most recent call last)",
            "\u001b[0;32m<ipython-input-78-598313ecf659>\u001b[0m in \u001b[0;36m<module>\u001b[0;34m\u001b[0m\n\u001b[1;32m      5\u001b[0m \u001b[0;34m\u001b[0m\u001b[0m\n\u001b[1;32m      6\u001b[0m golden_medals = ax.bar(x - bar_width, df1['Gold'],\n\u001b[0;32m----> 7\u001b[0;31m                        bar_width, label='Oro', color='#ffd700')\n\u001b[0m\u001b[1;32m      8\u001b[0m silver_medals = ax.bar(x, df1['Silver'],\n\u001b[1;32m      9\u001b[0m                        bar_width, label='Plata', color='#aaa9ad')\n",
            "\u001b[0;32m/usr/local/lib/python3.7/dist-packages/matplotlib/__init__.py\u001b[0m in \u001b[0;36minner\u001b[0;34m(ax, data, *args, **kwargs)\u001b[0m\n\u001b[1;32m   1563\u001b[0m     \u001b[0;32mdef\u001b[0m \u001b[0minner\u001b[0m\u001b[0;34m(\u001b[0m\u001b[0max\u001b[0m\u001b[0;34m,\u001b[0m \u001b[0;34m*\u001b[0m\u001b[0margs\u001b[0m\u001b[0;34m,\u001b[0m \u001b[0mdata\u001b[0m\u001b[0;34m=\u001b[0m\u001b[0;32mNone\u001b[0m\u001b[0;34m,\u001b[0m \u001b[0;34m**\u001b[0m\u001b[0mkwargs\u001b[0m\u001b[0;34m)\u001b[0m\u001b[0;34m:\u001b[0m\u001b[0;34m\u001b[0m\u001b[0;34m\u001b[0m\u001b[0m\n\u001b[1;32m   1564\u001b[0m         \u001b[0;32mif\u001b[0m \u001b[0mdata\u001b[0m \u001b[0;32mis\u001b[0m \u001b[0;32mNone\u001b[0m\u001b[0;34m:\u001b[0m\u001b[0;34m\u001b[0m\u001b[0;34m\u001b[0m\u001b[0m\n\u001b[0;32m-> 1565\u001b[0;31m             \u001b[0;32mreturn\u001b[0m \u001b[0mfunc\u001b[0m\u001b[0;34m(\u001b[0m\u001b[0max\u001b[0m\u001b[0;34m,\u001b[0m \u001b[0;34m*\u001b[0m\u001b[0mmap\u001b[0m\u001b[0;34m(\u001b[0m\u001b[0msanitize_sequence\u001b[0m\u001b[0;34m,\u001b[0m \u001b[0margs\u001b[0m\u001b[0;34m)\u001b[0m\u001b[0;34m,\u001b[0m \u001b[0;34m**\u001b[0m\u001b[0mkwargs\u001b[0m\u001b[0;34m)\u001b[0m\u001b[0;34m\u001b[0m\u001b[0;34m\u001b[0m\u001b[0m\n\u001b[0m\u001b[1;32m   1566\u001b[0m \u001b[0;34m\u001b[0m\u001b[0m\n\u001b[1;32m   1567\u001b[0m         \u001b[0mbound\u001b[0m \u001b[0;34m=\u001b[0m \u001b[0mnew_sig\u001b[0m\u001b[0;34m.\u001b[0m\u001b[0mbind\u001b[0m\u001b[0;34m(\u001b[0m\u001b[0max\u001b[0m\u001b[0;34m,\u001b[0m \u001b[0;34m*\u001b[0m\u001b[0margs\u001b[0m\u001b[0;34m,\u001b[0m \u001b[0;34m**\u001b[0m\u001b[0mkwargs\u001b[0m\u001b[0;34m)\u001b[0m\u001b[0;34m\u001b[0m\u001b[0;34m\u001b[0m\u001b[0m\n",
            "\u001b[0;32m/usr/local/lib/python3.7/dist-packages/matplotlib/axes/_axes.py\u001b[0m in \u001b[0;36mbar\u001b[0;34m(self, x, height, width, bottom, align, **kwargs)\u001b[0m\n\u001b[1;32m   2402\u001b[0m             \u001b[0;32melif\u001b[0m \u001b[0morientation\u001b[0m \u001b[0;34m==\u001b[0m \u001b[0;34m'horizontal'\u001b[0m\u001b[0;34m:\u001b[0m\u001b[0;34m\u001b[0m\u001b[0;34m\u001b[0m\u001b[0m\n\u001b[1;32m   2403\u001b[0m                 \u001b[0mr\u001b[0m\u001b[0;34m.\u001b[0m\u001b[0msticky_edges\u001b[0m\u001b[0;34m.\u001b[0m\u001b[0mx\u001b[0m\u001b[0;34m.\u001b[0m\u001b[0mappend\u001b[0m\u001b[0;34m(\u001b[0m\u001b[0ml\u001b[0m\u001b[0;34m)\u001b[0m\u001b[0;34m\u001b[0m\u001b[0;34m\u001b[0m\u001b[0m\n\u001b[0;32m-> 2404\u001b[0;31m             \u001b[0mself\u001b[0m\u001b[0;34m.\u001b[0m\u001b[0madd_patch\u001b[0m\u001b[0;34m(\u001b[0m\u001b[0mr\u001b[0m\u001b[0;34m)\u001b[0m\u001b[0;34m\u001b[0m\u001b[0;34m\u001b[0m\u001b[0m\n\u001b[0m\u001b[1;32m   2405\u001b[0m             \u001b[0mpatches\u001b[0m\u001b[0;34m.\u001b[0m\u001b[0mappend\u001b[0m\u001b[0;34m(\u001b[0m\u001b[0mr\u001b[0m\u001b[0;34m)\u001b[0m\u001b[0;34m\u001b[0m\u001b[0;34m\u001b[0m\u001b[0m\n\u001b[1;32m   2406\u001b[0m \u001b[0;34m\u001b[0m\u001b[0m\n",
            "\u001b[0;32m/usr/local/lib/python3.7/dist-packages/matplotlib/axes/_base.py\u001b[0m in \u001b[0;36madd_patch\u001b[0;34m(self, p)\u001b[0m\n\u001b[1;32m   1916\u001b[0m         \u001b[0mself\u001b[0m\u001b[0;34m.\u001b[0m\u001b[0m_set_artist_props\u001b[0m\u001b[0;34m(\u001b[0m\u001b[0mp\u001b[0m\u001b[0;34m)\u001b[0m\u001b[0;34m\u001b[0m\u001b[0;34m\u001b[0m\u001b[0m\n\u001b[1;32m   1917\u001b[0m         \u001b[0;32mif\u001b[0m \u001b[0mp\u001b[0m\u001b[0;34m.\u001b[0m\u001b[0mget_clip_path\u001b[0m\u001b[0;34m(\u001b[0m\u001b[0;34m)\u001b[0m \u001b[0;32mis\u001b[0m \u001b[0;32mNone\u001b[0m\u001b[0;34m:\u001b[0m\u001b[0;34m\u001b[0m\u001b[0;34m\u001b[0m\u001b[0m\n\u001b[0;32m-> 1918\u001b[0;31m             \u001b[0mp\u001b[0m\u001b[0;34m.\u001b[0m\u001b[0mset_clip_path\u001b[0m\u001b[0;34m(\u001b[0m\u001b[0mself\u001b[0m\u001b[0;34m.\u001b[0m\u001b[0mpatch\u001b[0m\u001b[0;34m)\u001b[0m\u001b[0;34m\u001b[0m\u001b[0;34m\u001b[0m\u001b[0m\n\u001b[0m\u001b[1;32m   1919\u001b[0m         \u001b[0mself\u001b[0m\u001b[0;34m.\u001b[0m\u001b[0m_update_patch_limits\u001b[0m\u001b[0;34m(\u001b[0m\u001b[0mp\u001b[0m\u001b[0;34m)\u001b[0m\u001b[0;34m\u001b[0m\u001b[0;34m\u001b[0m\u001b[0m\n\u001b[1;32m   1920\u001b[0m         \u001b[0mself\u001b[0m\u001b[0;34m.\u001b[0m\u001b[0mpatches\u001b[0m\u001b[0;34m.\u001b[0m\u001b[0mappend\u001b[0m\u001b[0;34m(\u001b[0m\u001b[0mp\u001b[0m\u001b[0;34m)\u001b[0m\u001b[0;34m\u001b[0m\u001b[0;34m\u001b[0m\u001b[0m\n",
            "\u001b[0;32m/usr/local/lib/python3.7/dist-packages/matplotlib/artist.py\u001b[0m in \u001b[0;36mset_clip_path\u001b[0;34m(self, path, transform)\u001b[0m\n\u001b[1;32m    759\u001b[0m         \u001b[0;32mif\u001b[0m \u001b[0mtransform\u001b[0m \u001b[0;32mis\u001b[0m \u001b[0;32mNone\u001b[0m\u001b[0;34m:\u001b[0m\u001b[0;34m\u001b[0m\u001b[0;34m\u001b[0m\u001b[0m\n\u001b[1;32m    760\u001b[0m             \u001b[0;32mif\u001b[0m \u001b[0misinstance\u001b[0m\u001b[0;34m(\u001b[0m\u001b[0mpath\u001b[0m\u001b[0;34m,\u001b[0m \u001b[0mRectangle\u001b[0m\u001b[0;34m)\u001b[0m\u001b[0;34m:\u001b[0m\u001b[0;34m\u001b[0m\u001b[0;34m\u001b[0m\u001b[0m\n\u001b[0;32m--> 761\u001b[0;31m                 self.clipbox = TransformedBbox(Bbox.unit(),\n\u001b[0m\u001b[1;32m    762\u001b[0m                                                path.get_transform())\n\u001b[1;32m    763\u001b[0m                 \u001b[0mself\u001b[0m\u001b[0;34m.\u001b[0m\u001b[0m_clippath\u001b[0m \u001b[0;34m=\u001b[0m \u001b[0;32mNone\u001b[0m\u001b[0;34m\u001b[0m\u001b[0;34m\u001b[0m\u001b[0m\n",
            "\u001b[0;32m/usr/local/lib/python3.7/dist-packages/matplotlib/transforms.py\u001b[0m in \u001b[0;36munit\u001b[0;34m()\u001b[0m\n\u001b[1;32m    764\u001b[0m     \u001b[0;32mdef\u001b[0m \u001b[0munit\u001b[0m\u001b[0;34m(\u001b[0m\u001b[0;34m)\u001b[0m\u001b[0;34m:\u001b[0m\u001b[0;34m\u001b[0m\u001b[0;34m\u001b[0m\u001b[0m\n\u001b[1;32m    765\u001b[0m         \u001b[0;34m\"\"\"Create a new unit `Bbox` from (0, 0) to (1, 1).\"\"\"\u001b[0m\u001b[0;34m\u001b[0m\u001b[0;34m\u001b[0m\u001b[0m\n\u001b[0;32m--> 766\u001b[0;31m         \u001b[0;32mreturn\u001b[0m \u001b[0mBbox\u001b[0m\u001b[0;34m(\u001b[0m\u001b[0mnp\u001b[0m\u001b[0;34m.\u001b[0m\u001b[0marray\u001b[0m\u001b[0;34m(\u001b[0m\u001b[0;34m[\u001b[0m\u001b[0;34m[\u001b[0m\u001b[0;36m0.0\u001b[0m\u001b[0;34m,\u001b[0m \u001b[0;36m0.0\u001b[0m\u001b[0;34m]\u001b[0m\u001b[0;34m,\u001b[0m \u001b[0;34m[\u001b[0m\u001b[0;36m1.0\u001b[0m\u001b[0;34m,\u001b[0m \u001b[0;36m1.0\u001b[0m\u001b[0;34m]\u001b[0m\u001b[0;34m]\u001b[0m\u001b[0;34m,\u001b[0m \u001b[0mfloat\u001b[0m\u001b[0;34m)\u001b[0m\u001b[0;34m)\u001b[0m\u001b[0;34m\u001b[0m\u001b[0;34m\u001b[0m\u001b[0m\n\u001b[0m\u001b[1;32m    767\u001b[0m \u001b[0;34m\u001b[0m\u001b[0m\n\u001b[1;32m    768\u001b[0m     \u001b[0;34m@\u001b[0m\u001b[0mstaticmethod\u001b[0m\u001b[0;34m\u001b[0m\u001b[0;34m\u001b[0m\u001b[0m\n",
            "\u001b[0;32m/usr/local/lib/python3.7/dist-packages/matplotlib/transforms.py\u001b[0m in \u001b[0;36m__init__\u001b[0;34m(self, points, **kwargs)\u001b[0m\n\u001b[1;32m    740\u001b[0m         \u001b[0mBboxBase\u001b[0m\u001b[0;34m.\u001b[0m\u001b[0m__init__\u001b[0m\u001b[0;34m(\u001b[0m\u001b[0mself\u001b[0m\u001b[0;34m,\u001b[0m \u001b[0;34m**\u001b[0m\u001b[0mkwargs\u001b[0m\u001b[0;34m)\u001b[0m\u001b[0;34m\u001b[0m\u001b[0;34m\u001b[0m\u001b[0m\n\u001b[1;32m    741\u001b[0m         \u001b[0mpoints\u001b[0m \u001b[0;34m=\u001b[0m \u001b[0mnp\u001b[0m\u001b[0;34m.\u001b[0m\u001b[0masarray\u001b[0m\u001b[0;34m(\u001b[0m\u001b[0mpoints\u001b[0m\u001b[0;34m,\u001b[0m \u001b[0mfloat\u001b[0m\u001b[0;34m)\u001b[0m\u001b[0;34m\u001b[0m\u001b[0;34m\u001b[0m\u001b[0m\n\u001b[0;32m--> 742\u001b[0;31m         \u001b[0;32mif\u001b[0m \u001b[0mpoints\u001b[0m\u001b[0;34m.\u001b[0m\u001b[0mshape\u001b[0m \u001b[0;34m!=\u001b[0m \u001b[0;34m(\u001b[0m\u001b[0;36m2\u001b[0m\u001b[0;34m,\u001b[0m \u001b[0;36m2\u001b[0m\u001b[0;34m)\u001b[0m\u001b[0;34m:\u001b[0m\u001b[0;34m\u001b[0m\u001b[0;34m\u001b[0m\u001b[0m\n\u001b[0m\u001b[1;32m    743\u001b[0m             raise ValueError('Bbox points must be of the form '\n\u001b[1;32m    744\u001b[0m                              '\"[[x0, y0], [x1, y1]]\".')\n",
            "\u001b[0;31mKeyboardInterrupt\u001b[0m: "
          ]
        },
        {
          "output_type": "display_data",
          "data": {
            "text/plain": [
              "<Figure size 800x500 with 1 Axes>"
            ],
            "image/png": "[encoded data removed]"
          },
          "metadata": {
            "needs_background": "light"
          }
        }
      ],
      "source": [
        "fig, ax = plt.subplots(figsize=(8, 5), dpi=100)  # 800x500 px\n",
        "\n",
        "bar_width = 0.30\n",
        "x = np.arange(df1.index.size)\n",
        "\n",
        "golden_medals = ax.bar(x - bar_width, df1['Gold'],\n",
        "                       bar_width, label='Oro', color='#ffd700')\n",
        "silver_medals = ax.bar(x, df1['Silver'],\n",
        "                       bar_width, label='Plata', color='#aaa9ad')\n",
        "bronze_medals = ax.bar(x + bar_width, df1['Silver'],\n",
        "                       bar_width, label='Bronce', color='#cd7f32')\n",
        "\n",
        "ax.set_xticks(x)\n",
        "ax.set_xticklabels(df1.index, rotation=90)\n",
        "ax.legend()\n",
        "\n",
        "# Etiquetas en barras\n",
        "ax.bar_label(golden_medals, padding=3)\n",
        "ax.bar_label(silver_medals, padding=3)\n",
        "ax.bar_label(bronze_medals, padding=3)\n",
        "\n",
        "ax.spines['right'].set_visible(False)  # ocultar borde derecho\n",
        "ax.spines['top'].set_visible(False)    # ocultar borde superior\n",
        "\n",
        "fig.tight_layout()  # ajustar elementos al tamaño de la figura\n",
        "fig"
      ]
    }
  ],
  "metadata": {
    "colab": {
      "provenance": [],
      "include_colab_link": true
    },
    "kernelspec": {
      "display_name": "Python 3",
      "name": "python3"
    },
    "language_info": {
      "name": "python"
    }
  },
  "nbformat": 4,
  "nbformat_minor": 0
}